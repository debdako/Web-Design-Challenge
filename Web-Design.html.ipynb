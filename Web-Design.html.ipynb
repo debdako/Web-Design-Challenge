{
 "cells": [
  {
   "cell_type": "code",
   "execution_count": 1,
   "id": "eaacc95b-63c6-4a40-97c3-5e12198f418d",
   "metadata": {},
   "outputs": [],
   "source": [
    "import pandas as pd\n",
    "import numpy as np"
   ]
  },
  {
   "cell_type": "code",
   "execution_count": null,
   "id": "fda00c4e-dcc1-49dd-918c-c7c0b9a6ee4a",
   "metadata": {},
   "outputs": [],
   "source": [
    "cities_data = pd.read_csv(\"cities_weather_data_cleaned.csv\")"
   ]
  },
  {
   "cell_type": "code",
   "execution_count": null,
   "id": "c5f6bd33-b2fc-4930-aa0e-64e30862252b",
   "metadata": {},
   "outputs": [],
   "source": [
    "cities_data.head()"
   ]
  },
  {
   "cell_type": "code",
   "execution_count": null,
   "id": "f7e26a74-163f-41d7-8b71-92ba316b0ee6",
   "metadata": {},
   "outputs": [],
   "source": [
    "Date is in scientific notation. This date stamp is necessary for defining actual date, so must have actual number. Tried rounding and other methods, but were not consistently working. Converted Date to integer list and appended to dataframe."
   ]
  },
  {
   "cell_type": "code",
   "execution_count": null,
   "id": "ceaeb8df-b85d-48f0-abf2-33bbbaf87067",
   "metadata": {},
   "outputs": [],
   "source": [
    "datestamp = []\n",
    "for index, row in cities_data.iterrows():\n",
    "    datestamp.append(int(row[3]))\n",
    "\n",
    "cities_data['DateStamp'] = datestamp"
   ]
  },
  {
   "cell_type": "code",
   "execution_count": null,
   "id": "db2f0797-b6f5-408f-92b6-fb415c15b549",
   "metadata": {},
   "outputs": [],
   "source": [
    "cities_data.head()"
   ]
  },
  {
   "cell_type": "code",
   "execution_count": null,
   "id": "94106235-913d-45cf-86e7-5c88288e2329",
   "metadata": {},
   "outputs": [],
   "source": [
    "Remove Date, then convert dataframe into html format for visualization in webpages.\n"
   ]
  },
  {
   "cell_type": "code",
   "execution_count": null,
   "id": "f4664e8a-d5bc-4164-9a48-c9926acd2c9d",
   "metadata": {},
   "outputs": [],
   "source": [
    "cities_cleaned = cities_data[['City', 'Cloudiness', 'Country', 'Humidity', 'Lat', 'Lng', 'Max Temp', 'Wind Speed', 'DateStamp']]\n"
   ]
  },
  {
   "cell_type": "code",
   "execution_count": null,
   "id": "5a5b861c-cc81-43f2-8476-b5606b849dd1",
   "metadata": {},
   "outputs": [],
   "source": [
    "cities_cleaned.to_html(\"cities_cleaned.html\")\n"
   ]
  },
  {
   "cell_type": "code",
   "execution_count": null,
   "id": "11838f18-056a-4e1f-a91b-075434f16dce",
   "metadata": {},
   "outputs": [],
   "source": []
  },
  {
   "cell_type": "code",
   "execution_count": null,
   "id": "05c436fb-d7de-405a-96fc-1313c884cd96",
   "metadata": {},
   "outputs": [],
   "source": []
  },
  {
   "cell_type": "code",
   "execution_count": null,
   "id": "01f1b557-9ac4-4f60-9fcf-1f01d9cd0cd1",
   "metadata": {},
   "outputs": [],
   "source": []
  },
  {
   "cell_type": "code",
   "execution_count": null,
   "id": "98f206f6-5050-4b47-b502-83d1bb9b6fb2",
   "metadata": {},
   "outputs": [],
   "source": []
  },
  {
   "cell_type": "code",
   "execution_count": null,
   "id": "da0f61d4-0183-47cd-a848-f528b82dfbd9",
   "metadata": {},
   "outputs": [],
   "source": []
  },
  {
   "cell_type": "code",
   "execution_count": null,
   "id": "27c9cc01-7b20-4abe-88d7-867e67f55dd7",
   "metadata": {},
   "outputs": [],
   "source": []
  },
  {
   "cell_type": "code",
   "execution_count": null,
   "id": "1e2881c9-bcc4-43fa-a1c1-70e47b8f91d9",
   "metadata": {},
   "outputs": [],
   "source": []
  },
  {
   "cell_type": "code",
   "execution_count": null,
   "id": "49d34697-0bae-442d-8d32-1fdd33805970",
   "metadata": {},
   "outputs": [],
   "source": []
  }
 ],
 "metadata": {
  "kernelspec": {
   "display_name": "Python 3 (ipykernel)",
   "language": "python",
   "name": "python3"
  },
  "language_info": {
   "codemirror_mode": {
    "name": "ipython",
    "version": 3
   },
   "file_extension": ".py",
   "mimetype": "text/x-python",
   "name": "python",
   "nbconvert_exporter": "python",
   "pygments_lexer": "ipython3",
   "version": "3.9.12"
  }
 },
 "nbformat": 4,
 "nbformat_minor": 5
}
